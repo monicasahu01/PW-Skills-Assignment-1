{
 "cells": [
  {
   "cell_type": "code",
   "execution_count": null,
   "id": "132f81e8-ecc0-47ee-bd6a-0b7fe1a5914d",
   "metadata": {},
   "outputs": [],
   "source": [
    "Q2. What happens when exception is not hndled? Explain with an example?\n",
    "When an exception occurred, if you don't handle it, the program terminates abruptly \n",
    "and the code past the line that caused the exception will not get executed\n",
    "\n",
    "\n",
    "13 feb \n",
    "Q2. Write a python program to print Python Exception Hierarchy.\n",
    "This Exception or Error hierarchy can be printed by importing the Python's inspect module. \n",
    "Using the inspect module, one can perform type checking, retrieve the source code of a method, \n",
    "inspects classes and functions, and examine interpreter stack.2\n",
    "\n",
    "Q3. What errors are defined in the ArithmeticError class? Explain any two with an example.\n",
    "by using the ArithmeticError exception class, you can handle both ZeroDivisionError and \n",
    "OverflowError exceptions. Use this exception class, anytime you are unsure of any arithmetic operations and \n",
    "the errors that it might result in. \n",
    "\n",
    "Check out other Python Built-in Exception classes in Python\n",
    "Q4. Why LookupError class is used? Explain with an example KeyError and IndexError.\n",
    "LookupError Exception is the Base class for errors raised when something can't be found. \n",
    "The base class for the exceptions that are raised when a key or index used on a mapping or sequence is invalid: \n",
    "IndexError, KeyError. An IndexError is raised when a sequence reference is out of range.\n",
    "\n",
    "Q5. Explain ImportError. What is ModuleNotFoundError?\n",
    "Python's ImportError ( ModuleNotFoundError ) indicates that you tried to import a module that Python doesn't find. \n",
    "It can usually be eliminated by adding a file named __init__.py to the directory and then adding this directory to $PYTHONPATH \n",
    "\n",
    "Q6. List down some best practices for exception handling in python.\n",
    "10 Python Exception Handling Best Practices\n",
    "Use Exceptions for Exceptional Cases. ...\n",
    "Don't Swallow the Exception. ...\n",
    "Catch Specific Exceptions. ...\n",
    "Always Clean Up Resources in a Finally Block. ...\n",
    "Avoid Raising Generic Exceptions. ...\n",
    "Raise Custom Exceptions. ...\n",
    "Define Your Own Exception Hierarchy. ...\n",
    "Document All Exceptions Thrown by a Function."
   ]
  }
 ],
 "metadata": {
  "kernelspec": {
   "display_name": "Python 3 (ipykernel)",
   "language": "python",
   "name": "python3"
  },
  "language_info": {
   "codemirror_mode": {
    "name": "ipython",
    "version": 3
   },
   "file_extension": ".py",
   "mimetype": "text/x-python",
   "name": "python",
   "nbconvert_exporter": "python",
   "pygments_lexer": "ipython3",
   "version": "3.10.8"
  }
 },
 "nbformat": 4,
 "nbformat_minor": 5
}
